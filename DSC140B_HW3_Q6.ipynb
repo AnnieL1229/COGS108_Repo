{
  "nbformat": 4,
  "nbformat_minor": 0,
  "metadata": {
    "colab": {
      "provenance": [],
      "gpuType": "T4",
      "include_colab_link": true
    },
    "kernelspec": {
      "name": "python3",
      "display_name": "Python 3"
    },
    "language_info": {
      "name": "python"
    },
    "accelerator": "GPU"
  },
  "cells": [
    {
      "cell_type": "markdown",
      "metadata": {
        "id": "view-in-github",
        "colab_type": "text"
      },
      "source": [
        "<a href=\"https://colab.research.google.com/github/AnnieL1229/COGS108_Repo/blob/main/DSC140B_HW3_Q6.ipynb\" target=\"_parent\"><img src=\"https://colab.research.google.com/assets/colab-badge.svg\" alt=\"Open In Colab\"/></a>"
      ]
    },
    {
      "cell_type": "markdown",
      "source": [
        "# Setup"
      ],
      "metadata": {
        "id": "9qjVI42wvOZb"
      }
    },
    {
      "cell_type": "code",
      "execution_count": 1,
      "metadata": {
        "id": "5Rl78f7Wrylb"
      },
      "outputs": [],
      "source": [
        "import torch\n",
        "import torch.nn as nn\n",
        "import torch.optim as optim\n",
        "import torchvision\n",
        "import torchvision.transforms as transforms\n",
        "from torchvision import datasets\n",
        "import matplotlib.pyplot as plt\n",
        "import numpy as np\n",
        "from torch.utils.data import DataLoader"
      ]
    },
    {
      "cell_type": "code",
      "source": [
        "# Set random seed for reproducibility\n",
        "torch.manual_seed(42)"
      ],
      "metadata": {
        "id": "aC3amsH-vQjx",
        "colab": {
          "base_uri": "https://localhost:8080/",
          "height": 0
        },
        "outputId": "afa3a95c-84f6-4cc6-9c4d-d6cb273bbc55"
      },
      "execution_count": 2,
      "outputs": [
        {
          "output_type": "execute_result",
          "data": {
            "text/plain": [
              "<torch._C.Generator at 0x7be1711e8c90>"
            ]
          },
          "metadata": {},
          "execution_count": 2
        }
      ]
    },
    {
      "cell_type": "markdown",
      "source": [
        "# Hyperparameters"
      ],
      "metadata": {
        "id": "KuRXyFdCrMAH"
      }
    },
    {
      "cell_type": "code",
      "source": [
        "# DO NOT CHANGE\n",
        "batch_size = 128\n",
        "learning_rate = 1e-3\n",
        "num_epochs = 10\n",
        "input_size = 28 * 28  # FashionMNIST images are 28x28 pixels\n",
        "hidden_sizes = [512, 256, 128]  # Three hidden layers\n",
        "num_classes = 10  # 10 classes in FashionMNIST"
      ],
      "metadata": {
        "id": "no99YfOvvkzZ"
      },
      "execution_count": 3,
      "outputs": []
    },
    {
      "cell_type": "markdown",
      "source": [
        "# Data"
      ],
      "metadata": {
        "id": "zkWxNhF5rPP0"
      }
    },
    {
      "cell_type": "code",
      "source": [
        "# Define transforms for the training and test sets\n",
        "transform = transforms.Compose([\n",
        "    transforms.ToTensor(),\n",
        "    transforms.Normalize((0.5,), (0.5,))\n",
        "])"
      ],
      "metadata": {
        "id": "ibdLthwKvff4"
      },
      "execution_count": 4,
      "outputs": []
    },
    {
      "cell_type": "code",
      "source": [
        "# TODO: Load the FashionMNIST dataset\n",
        "# Complete this with appropriate batch_size\n",
        "trainset = torchvision.datasets.FashionMNIST(\n",
        "    root='./data',\n",
        "    train=True,\n",
        "    download=True,\n",
        "    transform=transform\n",
        ")\n",
        "trainloader = DataLoader(trainset, batch_size=batch_size, shuffle=True)\n",
        "\n",
        "# Test set\n",
        "testset = torchvision.datasets.FashionMNIST(\n",
        "    root='./data',\n",
        "    train=False,\n",
        "    download=True,\n",
        "    transform=transform\n",
        ")\n",
        "testloader = DataLoader(testset, batch_size=batch_size, shuffle=False)"
      ],
      "metadata": {
        "id": "Po9433H_vlgw",
        "colab": {
          "base_uri": "https://localhost:8080/",
          "height": 0
        },
        "outputId": "6b27406c-5035-4cac-d823-50388af7fb5a"
      },
      "execution_count": 5,
      "outputs": [
        {
          "output_type": "stream",
          "name": "stderr",
          "text": [
            "100%|██████████| 26.4M/26.4M [00:02<00:00, 11.9MB/s]\n",
            "100%|██████████| 29.5k/29.5k [00:00<00:00, 203kB/s]\n",
            "100%|██████████| 4.42M/4.42M [00:01<00:00, 3.76MB/s]\n",
            "100%|██████████| 5.15k/5.15k [00:00<00:00, 13.0MB/s]\n"
          ]
        }
      ]
    },
    {
      "cell_type": "code",
      "source": [
        "# Class labels\n",
        "classes = ('T-shirt/top', 'Trouser', 'Pullover', 'Dress', 'Coat',\n",
        "        'Sandal', 'Shirt', 'Sneaker', 'Bag', 'Ankle Boot')"
      ],
      "metadata": {
        "id": "zZrKtGMNwOIe"
      },
      "execution_count": 6,
      "outputs": []
    },
    {
      "cell_type": "code",
      "source": [
        "# Function to show an image\n",
        "def imshow(img):\n",
        "    img = img / 2 + 0.5  # unnormalize\n",
        "    npimg = img.numpy()\n",
        "    plt.imshow(np.transpose(npimg, (1, 2, 0)))\n",
        "    plt.show()"
      ],
      "metadata": {
        "id": "VE1XQS4Ovvvo"
      },
      "execution_count": 7,
      "outputs": []
    },
    {
      "cell_type": "code",
      "source": [
        "# Get random training images\n",
        "dataiter = iter(trainloader)\n",
        "images, labels = next(dataiter)\n",
        "\n",
        "# Show images\n",
        "imshow(torchvision.utils.make_grid(images[:4]))\n",
        "\n",
        "# Print labels\n",
        "print(', '.join(f'{classes[labels[j]]:5s}' for j in range(4)))"
      ],
      "metadata": {
        "id": "y4_fnC7ZwiN9",
        "colab": {
          "base_uri": "https://localhost:8080/",
          "height": 212
        },
        "outputId": "be193d68-b33c-452c-c844-243a7cfc4acd"
      },
      "execution_count": 8,
      "outputs": [
        {
          "output_type": "display_data",
          "data": {
            "text/plain": [
              "<Figure size 640x480 with 1 Axes>"
            ],
            "image/png": "[encoded data removed]"
          },
          "metadata": {}
        },
        {
          "output_type": "stream",
          "name": "stdout",
          "text": [
            "Sandal, Sneaker, Coat , Sneaker\n"
          ]
        }
      ]
    },
    {
      "cell_type": "markdown",
      "source": [
        "# MLP"
      ],
      "metadata": {
        "id": "JeriU5Y2rSz4"
      }
    },
    {
      "cell_type": "code",
      "source": [
        "class MLP(nn.Module):\n",
        "    def __init__(self, input_size, hidden_sizes, num_classes):\n",
        "        super(MLP, self).__init__()\n",
        "        # The architecture should have:\n",
        "        # - An input layer that connects to the first hidden layer (512 neurons)\n",
        "        # - ReLU activation after the first hidden layer\n",
        "        # - A second hidden layer (256 neurons)\n",
        "        # - ReLU activation after the second hidden layer\n",
        "        # - A third hidden layer (128 neurons)\n",
        "        # - ReLU activation after the third hidden layer\n",
        "        # - An output layer with 10 neurons (one for each class)\n",
        "        # Hint: Use nn.Sequential, nn.Linear, nn.ReLU for a clean implementation\n",
        "\n",
        "         # Create a list to hold all layers\n",
        "        layers = []\n",
        "\n",
        "        # Input layer: from input_size to first hidden layer\n",
        "        layers.append(nn.Linear(input_size, hidden_sizes[0]))\n",
        "        layers.append(nn.ReLU())\n",
        "\n",
        "        # Hidden layers\n",
        "        for i in range(len(hidden_sizes) - 1):\n",
        "            layers.append(nn.Linear(hidden_sizes[i], hidden_sizes[i + 1]))\n",
        "            layers.append(nn.ReLU())\n",
        "\n",
        "        # Output layer\n",
        "        layers.append(nn.Linear(hidden_sizes[-1], num_classes))\n",
        "\n",
        "        # Create the sequential model\n",
        "        self.layers = nn.Sequential(*layers)\n",
        "\n",
        "    def forward(self, x):\n",
        "        # Flatten the input image (batch_size, 1, 28, 28) -> (batch_size, 784)\n",
        "        x = x.view(x.size(0), -1)\n",
        "        # Forward pass through the network\n",
        "        return self.layers(x)"
      ],
      "metadata": {
        "id": "CL9wXw575AGn"
      },
      "execution_count": 9,
      "outputs": []
    },
    {
      "cell_type": "markdown",
      "source": [
        "# CNN"
      ],
      "metadata": {
        "id": "oTrJZtI1CSMj"
      }
    },
    {
      "cell_type": "code",
      "source": [
        "class CNN(nn.Module):\n",
        "    \"\"\"\n",
        "    A simple Convolutional Neural Network (CNN) for classifying FashionMNIST images.\n",
        "\n",
        "    Architecture:\n",
        "    - Two convolutional layers with ReLU activation and max pooling.\n",
        "    - A fully connected classification head.\n",
        "    \"\"\"\n",
        "    def __init__(self, num_classes):\n",
        "        super(CNN, self).__init__()\n",
        "\n",
        "        # Convolution Layer 1: output size remains 28x28\n",
        "        self.conv1 = nn.Conv2d(in_channels=1, out_channels=64, kernel_size=3, stride=1, padding=1)\n",
        "        self.relu1 = nn.ReLU()\n",
        "        self.maxpool1 = nn.MaxPool2d(kernel_size=2)  # output: 64 x 14 x 14\n",
        "\n",
        "        # Convolution Layer 2: output size remains 14x14 → downsample to 7x7\n",
        "        self.conv2 = nn.Conv2d(in_channels=64, out_channels=64, kernel_size=3, stride=1, padding=1)\n",
        "        self.relu2 = nn.ReLU()\n",
        "        self.maxpool2 = nn.MaxPool2d(kernel_size=2)  # output: 64 x 7 x 7\n",
        "\n",
        "        # Flatten layer (no parameters)\n",
        "        self.flatten = nn.Flatten()\n",
        "\n",
        "        # Fully connected classifier\n",
        "        self.fc = nn.Linear(64 * 7 * 7, num_classes)  # 64 channels × 7 height × 7 width = 3136\n",
        "\n",
        "    def forward(self, x):\n",
        "        \"\"\"\n",
        "        Forward pass of the CNN.\n",
        "\n",
        "        Args:\n",
        "            x (torch.Tensor): Input batch of shape (batch_size, 1, 28, 28)\n",
        "\n",
        "        Returns:\n",
        "            torch.Tensor: Logits of shape (batch_size, num_classes)\n",
        "        \"\"\"\n",
        "        x = self.conv1(x)\n",
        "        x = self.relu1(x)\n",
        "        x = self.maxpool1(x)\n",
        "\n",
        "        x = self.conv2(x)\n",
        "        x = self.relu2(x)\n",
        "        x = self.maxpool2(x)\n",
        "\n",
        "        x = self.flatten(x)\n",
        "        x = self.fc(x)\n",
        "\n",
        "        return x\n"
      ],
      "metadata": {
        "id": "JSma6c1ICRxS"
      },
      "execution_count": 10,
      "outputs": []
    },
    {
      "cell_type": "markdown",
      "source": [
        "# Train"
      ],
      "metadata": {
        "id": "NKrzG32trVE6"
      }
    },
    {
      "cell_type": "code",
      "source": [
        "# TODO: Initialize the model\n",
        "model_mlp = MLP(input_size, hidden_sizes, num_classes)\n",
        "model_cnn = CNN(num_classes)"
      ],
      "metadata": {
        "id": "9tMwUJ0p5Dl1"
      },
      "execution_count": 11,
      "outputs": []
    },
    {
      "cell_type": "code",
      "source": [
        "# Check if GPU is available\n",
        "device = torch.device(\"cuda\" if torch.cuda.is_available() else \"cpu\")\n",
        "print(f\"Using device: {device}\")\n",
        "\n",
        "# Move models to device\n",
        "model_mlp.to(device)\n",
        "model_cnn.to(device)"
      ],
      "metadata": {
        "id": "zzuoWBqz5Gq7",
        "colab": {
          "base_uri": "https://localhost:8080/",
          "height": 0
        },
        "outputId": "93cb0a18-61de-4007-9d9e-eb8e7bba733b"
      },
      "execution_count": 12,
      "outputs": [
        {
          "output_type": "stream",
          "name": "stdout",
          "text": [
            "Using device: cuda\n"
          ]
        },
        {
          "output_type": "execute_result",
          "data": {
            "text/plain": [
              "CNN(\n",
              "  (conv1): Conv2d(1, 64, kernel_size=(3, 3), stride=(1, 1), padding=(1, 1))\n",
              "  (relu1): ReLU()\n",
              "  (maxpool1): MaxPool2d(kernel_size=2, stride=2, padding=0, dilation=1, ceil_mode=False)\n",
              "  (conv2): Conv2d(64, 64, kernel_size=(3, 3), stride=(1, 1), padding=(1, 1))\n",
              "  (relu2): ReLU()\n",
              "  (maxpool2): MaxPool2d(kernel_size=2, stride=2, padding=0, dilation=1, ceil_mode=False)\n",
              "  (flatten): Flatten(start_dim=1, end_dim=-1)\n",
              "  (fc): Linear(in_features=3136, out_features=10, bias=True)\n",
              ")"
            ]
          },
          "metadata": {},
          "execution_count": 12
        }
      ]
    },
    {
      "cell_type": "code",
      "source": [
        "# TODO: Implement the training loop\n",
        "def train(model, trainloader, num_epochs):\n",
        "\n",
        "    # TODO: Define loss function and optimizer (Adam)\n",
        "    criterion = nn.CrossEntropyLoss()\n",
        "    optimizer = optim.Adam(model.parameters(), lr=learning_rate)\n",
        "\n",
        "    # Set model to training mode\n",
        "    model.train()\n",
        "\n",
        "    # Lists to track progress\n",
        "    train_losses = []\n",
        "    train_accs = []\n",
        "\n",
        "    for epoch in range(num_epochs):\n",
        "        running_loss = 0.0\n",
        "        correct = 0\n",
        "        total = 0\n",
        "\n",
        "        for i, data in enumerate(trainloader, 0):\n",
        "            # TODO: Get the inputs and move them to the device\n",
        "            inputs, labels = data\n",
        "            inputs, labels = inputs.to(device), labels.to(device)\n",
        "\n",
        "            # TODO: Zero the parameter gradients\n",
        "            optimizer.zero_grad()\n",
        "\n",
        "            # TODO: Forward pass and compute loss\n",
        "            outputs = model(inputs)\n",
        "            loss = criterion(outputs, labels)\n",
        "\n",
        "            # TODO: Backward pass and optimizer step\n",
        "            loss.backward()\n",
        "            optimizer.step()\n",
        "\n",
        "            # Track statistics\n",
        "            running_loss += loss.item()\n",
        "            _, predicted = torch.max(outputs.data, 1)\n",
        "            total += labels.size(0)\n",
        "            correct += (predicted == labels).sum().item()\n",
        "\n",
        "            # Print statistics every 100 mini-batches\n",
        "            if i % 100 == 99:\n",
        "                batch_loss = running_loss / 100\n",
        "                batch_acc = 100 * correct / total\n",
        "                print(f'Epoch: {epoch + 1}, Batch: {i + 1}, Loss: {batch_loss:.3f}, Accuracy: {batch_acc:.2f}%')\n",
        "                running_loss = 0.0\n",
        "                correct = 0\n",
        "                total = 0\n",
        "\n",
        "        # TODO: Calculate epoch-level statistics\n",
        "        epoch_loss = running_loss / len(trainloader)\n",
        "        epoch_acc = 100 * correct / total\n",
        "        train_losses.append(epoch_loss)\n",
        "        train_accs.append(epoch_acc)\n",
        "\n",
        "        print(f'Epoch {epoch + 1} completed. Train Loss: {epoch_loss:.3f}, Train Accuracy: {epoch_acc:.2f}%')\n",
        "\n",
        "    print('Finished Training')\n",
        "    return train_losses, train_accs"
      ],
      "metadata": {
        "id": "Og_wmczG5Jib"
      },
      "execution_count": 13,
      "outputs": []
    },
    {
      "cell_type": "code",
      "source": [
        "# Implement the evaluation function\n",
        "def evaluate(model, dataloader):\n",
        "\n",
        "    # TODO: Define loss function\n",
        "    criterion = nn.CrossEntropyLoss()\n",
        "\n",
        "    model.eval()\n",
        "    running_loss = 0.0\n",
        "    correct = 0\n",
        "    total = 0\n",
        "\n",
        "    with torch.no_grad():\n",
        "        for data in dataloader:\n",
        "            # TODO: Get the inputs and move them to the device\n",
        "            images, labels = data\n",
        "            images, labels = images.to(device), labels.to(device)\n",
        "\n",
        "            # TODO: Forward pass and compute loss\n",
        "            outputs = model(images)\n",
        "            loss = criterion(outputs, labels)\n",
        "\n",
        "            # Track statistics\n",
        "            running_loss += loss.item()\n",
        "            _, predicted = torch.max(outputs.data, 1)\n",
        "            total += labels.size(0)\n",
        "            correct += (predicted == labels).sum().item()\n",
        "\n",
        "    avg_loss = running_loss / len(dataloader)\n",
        "    accuracy = 100 * correct / total\n",
        "\n",
        "    return avg_loss, accuracy"
      ],
      "metadata": {
        "id": "y1e9ZZio5MMe"
      },
      "execution_count": 14,
      "outputs": []
    },
    {
      "cell_type": "code",
      "source": [
        "print(\"Training MLP...\")\n",
        "train_losses_mlp, train_accs_mlp = train(model_mlp, trainloader, num_epochs)\n",
        "\n",
        "print(\"Training CNN...\")\n",
        "train_losses_cnn, train_accs_cnn = train(model_cnn, trainloader, num_epochs)"
      ],
      "metadata": {
        "id": "Yk8_5pp65QL7",
        "colab": {
          "base_uri": "https://localhost:8080/",
          "height": 0
        },
        "outputId": "831739d0-a8b8-4e2f-df9c-386d3fe53f8f"
      },
      "execution_count": 15,
      "outputs": [
        {
          "output_type": "stream",
          "name": "stdout",
          "text": [
            "Training MLP...\n",
            "Epoch: 1, Batch: 100, Loss: 0.767, Accuracy: 71.90%\n",
            "Epoch: 1, Batch: 200, Loss: 0.508, Accuracy: 81.14%\n",
            "Epoch: 1, Batch: 300, Loss: 0.455, Accuracy: 83.67%\n",
            "Epoch: 1, Batch: 400, Loss: 0.429, Accuracy: 84.34%\n",
            "Epoch 1 completed. Train Loss: 0.060, Train Accuracy: 85.43%\n",
            "Epoch: 2, Batch: 100, Loss: 0.386, Accuracy: 85.98%\n",
            "Epoch: 2, Batch: 200, Loss: 0.373, Accuracy: 86.25%\n",
            "Epoch: 2, Batch: 300, Loss: 0.381, Accuracy: 85.98%\n",
            "Epoch: 2, Batch: 400, Loss: 0.366, Accuracy: 86.55%\n",
            "Epoch 2 completed. Train Loss: 0.052, Train Accuracy: 86.84%\n",
            "Epoch: 3, Batch: 100, Loss: 0.336, Accuracy: 87.74%\n",
            "Epoch: 3, Batch: 200, Loss: 0.333, Accuracy: 87.70%\n",
            "Epoch: 3, Batch: 300, Loss: 0.334, Accuracy: 87.59%\n",
            "Epoch: 3, Batch: 400, Loss: 0.347, Accuracy: 87.20%\n",
            "Epoch 3 completed. Train Loss: 0.048, Train Accuracy: 87.76%\n",
            "Epoch: 4, Batch: 100, Loss: 0.308, Accuracy: 88.55%\n",
            "Epoch: 4, Batch: 200, Loss: 0.311, Accuracy: 88.47%\n",
            "Epoch: 4, Batch: 300, Loss: 0.318, Accuracy: 88.34%\n",
            "Epoch: 4, Batch: 400, Loss: 0.303, Accuracy: 88.62%\n",
            "Epoch 4 completed. Train Loss: 0.045, Train Accuracy: 88.93%\n",
            "Epoch: 5, Batch: 100, Loss: 0.280, Accuracy: 89.53%\n",
            "Epoch: 5, Batch: 200, Loss: 0.294, Accuracy: 88.95%\n",
            "Epoch: 5, Batch: 300, Loss: 0.291, Accuracy: 89.02%\n",
            "Epoch: 5, Batch: 400, Loss: 0.292, Accuracy: 89.13%\n",
            "Epoch 5 completed. Train Loss: 0.042, Train Accuracy: 89.56%\n",
            "Epoch: 6, Batch: 100, Loss: 0.272, Accuracy: 90.06%\n",
            "Epoch: 6, Batch: 200, Loss: 0.266, Accuracy: 90.02%\n",
            "Epoch: 6, Batch: 300, Loss: 0.265, Accuracy: 89.95%\n",
            "Epoch: 6, Batch: 400, Loss: 0.274, Accuracy: 89.74%\n",
            "Epoch 6 completed. Train Loss: 0.041, Train Accuracy: 89.57%\n",
            "Epoch: 7, Batch: 100, Loss: 0.254, Accuracy: 90.20%\n",
            "Epoch: 7, Batch: 200, Loss: 0.256, Accuracy: 90.44%\n",
            "Epoch: 7, Batch: 300, Loss: 0.266, Accuracy: 90.05%\n",
            "Epoch: 7, Batch: 400, Loss: 0.246, Accuracy: 90.73%\n",
            "Epoch 7 completed. Train Loss: 0.039, Train Accuracy: 90.19%\n",
            "Epoch: 8, Batch: 100, Loss: 0.247, Accuracy: 90.72%\n",
            "Epoch: 8, Batch: 200, Loss: 0.238, Accuracy: 90.95%\n",
            "Epoch: 8, Batch: 300, Loss: 0.242, Accuracy: 91.11%\n",
            "Epoch: 8, Batch: 400, Loss: 0.249, Accuracy: 90.58%\n",
            "Epoch 8 completed. Train Loss: 0.036, Train Accuracy: 90.77%\n",
            "Epoch: 9, Batch: 100, Loss: 0.231, Accuracy: 91.22%\n",
            "Epoch: 9, Batch: 200, Loss: 0.225, Accuracy: 91.48%\n",
            "Epoch: 9, Batch: 300, Loss: 0.234, Accuracy: 91.45%\n",
            "Epoch: 9, Batch: 400, Loss: 0.238, Accuracy: 90.95%\n",
            "Epoch 9 completed. Train Loss: 0.034, Train Accuracy: 90.75%\n",
            "Epoch: 10, Batch: 100, Loss: 0.211, Accuracy: 91.78%\n",
            "Epoch: 10, Batch: 200, Loss: 0.222, Accuracy: 91.65%\n",
            "Epoch: 10, Batch: 300, Loss: 0.217, Accuracy: 91.94%\n",
            "Epoch: 10, Batch: 400, Loss: 0.216, Accuracy: 91.80%\n",
            "Epoch 10 completed. Train Loss: 0.033, Train Accuracy: 91.64%\n",
            "Finished Training\n",
            "Training CNN...\n",
            "Epoch: 1, Batch: 100, Loss: 0.719, Accuracy: 74.71%\n",
            "Epoch: 1, Batch: 200, Loss: 0.432, Accuracy: 84.50%\n",
            "Epoch: 1, Batch: 300, Loss: 0.392, Accuracy: 86.06%\n",
            "Epoch: 1, Batch: 400, Loss: 0.359, Accuracy: 87.22%\n",
            "Epoch 1 completed. Train Loss: 0.051, Train Accuracy: 87.62%\n",
            "Epoch: 2, Batch: 100, Loss: 0.316, Accuracy: 88.80%\n",
            "Epoch: 2, Batch: 200, Loss: 0.309, Accuracy: 89.07%\n",
            "Epoch: 2, Batch: 300, Loss: 0.297, Accuracy: 89.23%\n",
            "Epoch: 2, Batch: 400, Loss: 0.288, Accuracy: 89.98%\n",
            "Epoch 2 completed. Train Loss: 0.043, Train Accuracy: 89.32%\n",
            "Epoch: 3, Batch: 100, Loss: 0.269, Accuracy: 90.35%\n",
            "Epoch: 3, Batch: 200, Loss: 0.274, Accuracy: 90.62%\n",
            "Epoch: 3, Batch: 300, Loss: 0.246, Accuracy: 91.37%\n",
            "Epoch: 3, Batch: 400, Loss: 0.258, Accuracy: 91.00%\n",
            "Epoch 3 completed. Train Loss: 0.038, Train Accuracy: 90.58%\n",
            "Epoch: 4, Batch: 100, Loss: 0.239, Accuracy: 91.93%\n",
            "Epoch: 4, Batch: 200, Loss: 0.235, Accuracy: 91.43%\n",
            "Epoch: 4, Batch: 300, Loss: 0.224, Accuracy: 91.78%\n",
            "Epoch: 4, Batch: 400, Loss: 0.225, Accuracy: 91.76%\n",
            "Epoch 4 completed. Train Loss: 0.035, Train Accuracy: 91.56%\n",
            "Epoch: 5, Batch: 100, Loss: 0.204, Accuracy: 92.51%\n",
            "Epoch: 5, Batch: 200, Loss: 0.207, Accuracy: 92.32%\n",
            "Epoch: 5, Batch: 300, Loss: 0.216, Accuracy: 92.04%\n",
            "Epoch: 5, Batch: 400, Loss: 0.214, Accuracy: 92.36%\n",
            "Epoch 5 completed. Train Loss: 0.031, Train Accuracy: 92.60%\n",
            "Epoch: 6, Batch: 100, Loss: 0.184, Accuracy: 93.28%\n",
            "Epoch: 6, Batch: 200, Loss: 0.198, Accuracy: 92.84%\n",
            "Epoch: 6, Batch: 300, Loss: 0.199, Accuracy: 92.88%\n",
            "Epoch: 6, Batch: 400, Loss: 0.198, Accuracy: 92.88%\n",
            "Epoch 6 completed. Train Loss: 0.028, Train Accuracy: 93.40%\n",
            "Epoch: 7, Batch: 100, Loss: 0.177, Accuracy: 93.66%\n",
            "Epoch: 7, Batch: 200, Loss: 0.175, Accuracy: 93.56%\n",
            "Epoch: 7, Batch: 300, Loss: 0.183, Accuracy: 93.49%\n",
            "Epoch: 7, Batch: 400, Loss: 0.177, Accuracy: 93.82%\n",
            "Epoch 7 completed. Train Loss: 0.026, Train Accuracy: 93.69%\n",
            "Epoch: 8, Batch: 100, Loss: 0.162, Accuracy: 94.27%\n",
            "Epoch: 8, Batch: 200, Loss: 0.169, Accuracy: 94.05%\n",
            "Epoch: 8, Batch: 300, Loss: 0.160, Accuracy: 94.31%\n",
            "Epoch: 8, Batch: 400, Loss: 0.168, Accuracy: 93.85%\n",
            "Epoch 8 completed. Train Loss: 0.025, Train Accuracy: 93.55%\n",
            "Epoch: 9, Batch: 100, Loss: 0.147, Accuracy: 94.88%\n",
            "Epoch: 9, Batch: 200, Loss: 0.154, Accuracy: 94.33%\n",
            "Epoch: 9, Batch: 300, Loss: 0.158, Accuracy: 94.15%\n",
            "Epoch: 9, Batch: 400, Loss: 0.149, Accuracy: 94.62%\n",
            "Epoch 9 completed. Train Loss: 0.023, Train Accuracy: 94.45%\n",
            "Epoch: 10, Batch: 100, Loss: 0.141, Accuracy: 95.11%\n",
            "Epoch: 10, Batch: 200, Loss: 0.142, Accuracy: 95.03%\n",
            "Epoch: 10, Batch: 300, Loss: 0.146, Accuracy: 94.68%\n",
            "Epoch: 10, Batch: 400, Loss: 0.148, Accuracy: 94.62%\n",
            "Epoch 10 completed. Train Loss: 0.020, Train Accuracy: 95.22%\n",
            "Finished Training\n"
          ]
        }
      ]
    },
    {
      "cell_type": "markdown",
      "source": [
        "# Evaluate"
      ],
      "metadata": {
        "id": "FKOupNJLrXtu"
      }
    },
    {
      "cell_type": "code",
      "source": [
        "# Test the model\n",
        "print(\"Evaluating MLP...\")\n",
        "test_loss_mlp, test_acc_mlp = evaluate(model_mlp, testloader)\n",
        "print(f'MLP: Test Loss: {test_loss_mlp:.3f}, Test Accuracy: {test_acc_mlp:.2f}%')\n",
        "\n",
        "print(\"Evaluating CNN...\")\n",
        "test_loss_cnn, test_acc_cnn = evaluate(model_cnn, testloader)\n",
        "print(f'CNN: Test Loss: {test_loss_cnn:.3f}, Test Accuracy: {test_acc_cnn:.2f}%')"
      ],
      "metadata": {
        "id": "2LrMsBum5Smh",
        "colab": {
          "base_uri": "https://localhost:8080/",
          "height": 0
        },
        "outputId": "c93ee193-d7f3-47e2-e63a-575cf78b08ef"
      },
      "execution_count": 16,
      "outputs": [
        {
          "output_type": "stream",
          "name": "stdout",
          "text": [
            "Evaluating MLP...\n",
            "MLP: Test Loss: 0.329, Test Accuracy: 88.69%\n",
            "Evaluating CNN...\n",
            "CNN: Test Loss: 0.240, Test Accuracy: 91.85%\n"
          ]
        }
      ]
    },
    {
      "cell_type": "markdown",
      "source": [
        "# Plot"
      ],
      "metadata": {
        "id": "Wt3clYLWrZo_"
      }
    },
    {
      "cell_type": "code",
      "source": [
        "# Plot training progress\n",
        "plt.figure(figsize=(8, 5))\n",
        "plt.legend(['MLP', 'CNN'])\n",
        "plt.title('Training Loss')\n",
        "plt.xlabel('Epoch')\n",
        "plt.ylabel('Loss')\n",
        "plt.plot(\n",
        "    range(1, num_epochs + 1),\n",
        "    train_losses_mlp,\n",
        "    label='MLP'\n",
        ")\n",
        "plt.plot(\n",
        "    range(1, num_epochs + 1),\n",
        "    train_losses_cnn,\n",
        "    label='CNN'\n",
        ")\n",
        "plt.legend()\n",
        "plt.show()\n",
        "\n",
        "\n",
        "plt.figure(figsize=(8, 5))\n",
        "plt.legend(['MLP', 'CNN'])\n",
        "plt.title('Training Accuracy')\n",
        "plt.xlabel('Epoch')\n",
        "plt.ylabel('Accuracy (%)')\n",
        "\n",
        "plt.plot(\n",
        "    range(1, num_epochs + 1),\n",
        "    train_accs_mlp,\n",
        "    label='MLP'\n",
        ")\n",
        "plt.plot(\n",
        "    range(1, num_epochs + 1),\n",
        "    train_accs_cnn,\n",
        "    label='CNN'\n",
        ")\n",
        "plt.legend()\n",
        "plt.show()\n",
        "\n"
      ],
      "metadata": {
        "id": "E2X-eMQh5U-g",
        "colab": {
          "base_uri": "https://localhost:8080/",
          "height": 957
        },
        "outputId": "c152291e-2f2d-4aed-8309-7e4db07af165"
      },
      "execution_count": 17,
      "outputs": [
        {
          "output_type": "display_data",
          "data": {
            "text/plain": [
              "<Figure size 800x500 with 1 Axes>"
            ],
            "image/png": "[encoded data removed]"
          },
          "metadata": {}
        },
        {
          "output_type": "display_data",
          "data": {
            "text/plain": [
              "<Figure size 800x500 with 1 Axes>"
            ],
            "image/png": "[encoded data removed]"
          },
          "metadata": {}
        }
      ]
    },
    {
      "cell_type": "markdown",
      "source": [
        "# Visualize Predictions"
      ],
      "metadata": {
        "id": "RQdOxhc-r93-"
      }
    },
    {
      "cell_type": "code",
      "source": [
        "# Visualize some predictions\n",
        "def visualize_predictions(model, testloader, classes, num_images=5):\n",
        "    model.eval()\n",
        "\n",
        "    # Get a batch of test images\n",
        "    dataiter = iter(testloader)\n",
        "    images, labels = next(dataiter)\n",
        "    images, labels = images[:num_images].to(device), labels[:num_images].to(device)\n",
        "\n",
        "    # Make predictions\n",
        "    with torch.no_grad():\n",
        "        outputs = model(images)\n",
        "        _, predicted = torch.max(outputs, 1)\n",
        "\n",
        "    # Move images back to CPU for visualization\n",
        "    images = images.cpu()\n",
        "\n",
        "    # Plot the images with their true and predicted labels\n",
        "    fig = plt.figure(figsize=(15, 3))\n",
        "    for i in range(num_images):\n",
        "        ax = fig.add_subplot(1, num_images, i + 1)\n",
        "        ax.imshow(images[i].squeeze(), cmap='gray')\n",
        "        color = 'green' if predicted[i] == labels[i] else 'red'\n",
        "        ax.set_title(f'True: {classes[labels[i]]}\\nPred: {classes[predicted[i]]}', color=color)\n",
        "\n",
        "    plt.tight_layout()\n",
        "    plt.show()\n",
        "\n",
        "# Visualize some predictions\n",
        "visualize_predictions(model_mlp, testloader, classes)"
      ],
      "metadata": {
        "id": "BV0GjGzq5d16",
        "colab": {
          "base_uri": "https://localhost:8080/",
          "height": 304
        },
        "outputId": "873cdd36-a53a-4b7c-9358-ea6585fc51ca"
      },
      "execution_count": 18,
      "outputs": [
        {
          "output_type": "display_data",
          "data": {
            "text/plain": [
              "<Figure size 1500x300 with 5 Axes>"
            ],
            "image/png": "[encoded data removed]"
          },
          "metadata": {}
        }
      ]
    },
    {
      "cell_type": "code",
      "source": [],
      "metadata": {
        "id": "n7AtZi2mEXx4"
      },
      "execution_count": 18,
      "outputs": []
    }
  ]
}